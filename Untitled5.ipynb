{
  "nbformat": 4,
  "nbformat_minor": 0,
  "metadata": {
    "colab": {
      "provenance": [],
      "toc_visible": true
    },
    "kernelspec": {
      "name": "python3",
      "display_name": "Python 3"
    },
    "language_info": {
      "name": "python"
    }
  },
  "cells": [
    {
      "cell_type": "code",
      "execution_count": null,
      "metadata": {
        "collapsed": true,
        "id": "4AWvlA_CgqSS"
      },
      "outputs": [],
      "source": [
        "1. What is the difference between a function and a method in Python?\n",
        " Ans:    Ans: In Python, the terms function and method are often used, but they have distinct meanings. Here’s the difference:\n",
        "# The original line was indented, which caused the IndentationError.\n",
        "# By removing the indent (starting the line at the beginning), the error should be resolved.\n",
        "\n",
        "\n",
        "# Function\n",
        "# A function is a block of reusable code that performs a specific task.\n",
        "# It can be defined using the def keyword and is not bound to any object.\n",
        "# Functions can be called independently.\n",
        "# Example of a function:\n",
        "\n",
        "\n",
        "def greet(name):\n",
        "    return f\"Hello, {name}!\"\n",
        "\n",
        "\n",
        "# Calling the function\n",
        "greet(\"Alice\")\n",
        "\n",
        "# Method\n",
        "# A method is a function that is associated with an object and is bound to the object’s class.\n",
        "# Methods are always called on an object or class (instance or class method).\n",
        "# In Python, methods are defined within classes.\n",
        "# Example of a method:\n",
        "\n",
        "\n",
        "class Person:\n",
        "    def __init__(self, name):\n",
        "        self.name = name\n",
        "\n",
        "    def greet(self):\n",
        "        return f\"Hello, {self.name}!\"\n",
        "\n",
        "\n",
        "# Creating an object of Person class\n",
        "person = Person(\"Alice\")\n",
        "\n",
        "# Calling the method\n",
        "person.greet()\n",
        "\n",
        "\n",
        "\n"
      ]
    },
    {
      "cell_type": "markdown",
      "source": [
        "2. Explain the concept of function arguments and parameters in Python.\n",
        "ans In Python, function arguments and parameters are related concepts that deal with the values passed to a function when it is called and the variables that receive those values within the function\n",
        "Parameters\n",
        "Parameters are the names used in the function definition. They act as placeholders for the values that will be passed to the function when it is called.\n",
        "Parameters are defined inside the parentheses of the function definition.\n",
        "Example:\n",
        "\n",
        "python\n",
        "Copy\n",
        "def greet(name):  # 'name' is the parameter\n",
        "    return f\"Hello, {name}!\"\n",
        "Arguemnts\n",
        "\n",
        "Arguments are the actual values that you pass to the function when calling it. These values are assigned to the corresponding parameters defined in the function.\n",
        "Arguments can be passed either as positional or keyword arguments.\n",
        "Example:\n",
        "\n",
        "python\n",
        "Copy\n",
        "greet(\"vivek \")  # \"vivek \" is the argument passed to the 'name' parameter\n"
      ],
      "metadata": {
        "id": "1Ksd7MDpjONC"
      }
    },
    {
      "cell_type": "markdown",
      "source": [
        "3. What are the different ways to define and call a function in Python?\n",
        "ANS:In Python, you can define and call functions in several ways. Below are the different approaches:\n",
        "\n",
        "1. Defining and Calling a Basic Function\n",
        "This is the standard way to define and call a function.\n",
        "\n",
        "Definition:\n",
        "\n",
        "python\n",
        "Copy\n",
        "def greet():\n",
        "    print(\"Hello, World!\")\n",
        "Calling:\n",
        "        greet()  # Output: Hello, World!\n",
        ". Defining and Calling a Function with Variable-Length Arguments\n",
        "You can use *args for a variable number of positional arguments and **kwargs for a variable number of keyword arguments.\n",
        "\n",
        "Definition with *args:\n",
        "\n",
        "python\n",
        "Copy\n",
        "def greet(*names):\n",
        "    for name in names:\n",
        "        print(f\"Hello, {name}!\")\n",
        "Calling:\n",
        "\n",
        "\n",
        "\n"
      ],
      "metadata": {
        "id": "vU9Vo0D6kTAf"
      }
    },
    {
      "cell_type": "markdown",
      "source": [
        "4. What is the purpose of the `return` statement in a Python function?\n",
        " Ans: The return statement in a Python function is used to exit the function and send a result back to the caller. It allows you to return a value from the function.\n",
        "\n",
        "Example:\n",
        "def add(a, b):\n",
        "    return a + b\n",
        "\n",
        "result = add(3, 4)\n",
        "print(result)  # Output: 7\n"
      ],
      "metadata": {
        "id": "3TwWE4y5lOIm"
      }
    },
    {
      "cell_type": "markdown",
      "source": [
        " 5 What are iterators in Python and how do they differ from iterables?\n",
        " Ans:In Python, iterators and iterables are closely related concepts, but they serve different purposes.\n",
        "\n",
        "Iterable:\n",
        "An iterable is any Python object that can be looped over (iterated through). This includes types like lists, tuples, strings, and dictionaries. An iterable can return an iterator using the iter() function.\n",
        "\n",
        "Iterator:\n",
        "An iterator is an object that represents a stream of data and is used to iterate through an iterable. It must implement two methods:\n",
        "\n",
        "__iter__() – Returns the iterator object itself.\n",
        "__next__() – Returns the next item in the sequence and raises a StopIteration exception when there are no more items.\n",
        "Difference:\n",
        "Iterable: An object that can be used in a for loop (e.g., a list or a string).\n",
        "Iterator: An object that is used to fetch elements from an iterable one by one using the next() function.\n",
        "Example:\n",
        "python\n",
        "Copy\n",
        "# Example of an iterable\n",
        "numbers = [1, 2, 3]  # List is an iterable\n",
        "\n",
        "# Get an iterator from the iterable\n",
        "iterator = iter(numbers)\n",
        "\n",
        "# Using the iterator to fetch elements one by one\n",
        "print(next(iterator))  # Output: 1\n",
        "print(next(iterator))  # Output: 2\n",
        "print(next(iterator))  # Output: 3\n",
        "\n"
      ],
      "metadata": {
        "id": "G4YQkKj0mDfR"
      }
    },
    {
      "cell_type": "markdown",
      "source": [
        "6. Explain the concept of generators in Python and how they are defined.\n",
        " Ans: Generators in Python A generator in Python is type of iterable, like a list or a tuple, but it does not store all the items in memory at once. Instead, a generator yields one item at a time as you iterate over it, which makes it more memory efficient, especially for large data sets.\n",
        " Example of a Generator:\n",
        "# Generator function\n",
        "def count_up_to(max):\n",
        "    count = 1\n",
        "    while count <= max:\n",
        "        yield count  # Yield the current value, then pause the function's execution\n",
        "        count += 1\n",
        "\n",
        "# Create a generator object\n",
        "counter = count_up_to(5)"
      ],
      "metadata": {
        "id": "WepdBG_imdNF"
      }
    },
    {
      "cell_type": "markdown",
      "source": [
        " 7 What are the advantages of using generators over regular functions?\n",
        "Ans:Advantages of Using Generators Over Regular Functions:\n",
        "Memory Efficiency: Generators don't store the entire sequence in memory, they yield items one at a time. This makes them ideal for working with large datasets.\n",
        "\n",
        "Lazy Evaluation: Values are computed only when needed, which can lead to performance improvements when working with large or infinite sequences.\n",
        "\n",
        "Simpler Code: Generators eliminate the need for managing the state of an iteration manually, making the code more concise.\n",
        " example\n",
        " def generate_numbers(n):\n",
        "    return [i for i in range(1, n + 1)]  # Returns a full list in memory\n",
        "\n",
        "numbers = generate_numbers(1000000)  # This creates a large list in memory\n",
        "\n",
        "\n"
      ],
      "metadata": {
        "id": "a0Nmwu0WnQpd"
      }
    },
    {
      "cell_type": "markdown",
      "source": [
        "8. What is a lambda function in Python and when is it typically used?\n",
        " Ans: A lambda function is a small, anonymous function defined with the lambda keyword. It can take any number of arguments but only has one expression, which is evaluated and returned.\n",
        "\n",
        "Syntax:\n",
        "python\n",
        "Copy\n",
        "lambda arguments: expression\n",
        "Example:\n",
        "# Lambda function to add two numbers\n",
        "add = lambda x, y: x + y\n",
        "\n",
        "result = add(3, 4)  # Output: 7\n"
      ],
      "metadata": {
        "id": "3XDFXHOlnm3Y"
      }
    },
    {
      "cell_type": "markdown",
      "source": [
        "9. Explain the purpose and usage of the `map()` function in Python.\n",
        "ANS: The `map()` function in Python applies a specified function to each item in an iterable (like a list or tuple) and returns an iterator with the results.\n",
        "\n",
        "### Syntax:\n",
        "\n",
        "map(function, iterable)\n",
        "```\n",
        "\n",
        "- `function`: The function to apply to each item.\n",
        "- `iterable`: The iterable to process.\n",
        "\n",
        "### Example:\n",
        "```python\n",
        "numbers = [1, 2, 3, 4]\n",
        "squared_numbers = map(lambda x: x ** 2, numbers)\n",
        "print(list(squared_numbers))  # Output: [1, 4, 9, 16]\n",
        "```\n",
        "\n",
        "It can also handle multiple iterables if the function takes more than one argument. The result is an iterator, which can be converted to a list or another type."
      ],
      "metadata": {
        "id": "A4DTzGi4oKP_"
      }
    },
    {
      "cell_type": "markdown",
      "source": [
        "10. What is the difference between `map()`, `reduce()`, and `filter()` functions in Python?\n",
        "Ans:map():\n",
        "\n",
        "Purpose: Applies a function to each item in an iterable and returns a map object (an iterator).\n",
        "Usage: Transforms each element of the iterable.\n",
        "Example:\n",
        "python\n",
        "Copy\n",
        "numbers = [1, 2, 3]\n",
        "result = map(lambda x: x * 2, numbers)  # Output: [2, 4, 6]\n",
        "reduce() (from the functools module):\n",
        "\n",
        "Purpose: Applies a function cumulatively to the items of an iterable, reducing it to a single value.\n",
        "Usage: Performs a rolling computation to reduce the iterable to one value.\n",
        "Example:\n",
        "Copy\n",
        "from functools import reduce\n",
        "numbers = [1, 2, 3]\n",
        "result = reduce(lambda x, y: x + y, numbers)  # Output: 6\n",
        "filter():\n",
        "\n",
        "Purpose: Filters items in an iterable based on a function that returns True or False, and returns an iterator with the items where the function returned True.\n",
        "Usage: Filters elements from the iterable.\n",
        "Example:\n",
        "Copy\n",
        "numbers = [1, 2, 3, 4]\n",
        "result = filter(lambda x: x % 2 == 0, numbers)  # Output: [2, 4]"
      ],
      "metadata": {
        "id": "kvkS2BxopLCN"
      }
    },
    {
      "cell_type": "markdown",
      "source": [
        "partical\n",
        "\n",
        "1. Write a Python function that takes a list of numbers as input and returns the sum of all even numbers in the list\n",
        " Ans:\n",
        "\n"
      ],
      "metadata": {
        "id": "MOWG5XNo6s8B"
      }
    },
    {
      "cell_type": "code",
      "source": [
        "def sum_of_even_numbers(numbers):\n",
        "    return sum(num for num in numbers if num % 2 == 0)\n",
        "\n",
        "# Example usage:\n",
        "numbers = [1, 2, 3, 4, 5, 6]\n",
        "result = sum_of_even_numbers(numbers)\n",
        "print(result)  # Output: 12\n"
      ],
      "metadata": {
        "colab": {
          "base_uri": "https://localhost:8080/"
        },
        "id": "0LxJlOUO7S1w",
        "outputId": "3f519881-f9ef-410a-fa9d-807d6b07a0aa"
      },
      "execution_count": 1,
      "outputs": [
        {
          "output_type": "stream",
          "name": "stdout",
          "text": [
            "12\n"
          ]
        }
      ]
    },
    {
      "cell_type": "markdown",
      "source": [
        "2. Create a Python function that accepts a string and returns the reverse of that string.\n",
        "Ans:"
      ],
      "metadata": {
        "id": "9IJzjKiG7ZtN"
      }
    },
    {
      "cell_type": "code",
      "source": [
        "def reverse_string(s):\n",
        "    return s[::-1]\n",
        "\n",
        "# Example usage:\n",
        "input_string = \"hello\"\n",
        "result = reverse_string(input_string)\n",
        "print(result)  # Output: \"olleh\"\n"
      ],
      "metadata": {
        "colab": {
          "base_uri": "https://localhost:8080/"
        },
        "id": "BhdgI9f37iEU",
        "outputId": "b8e11d35-977f-484a-bb4e-e87687762a68"
      },
      "execution_count": 2,
      "outputs": [
        {
          "output_type": "stream",
          "name": "stdout",
          "text": [
            "olleh\n"
          ]
        }
      ]
    },
    {
      "cell_type": "markdown",
      "source": [
        " 3. Implement a Python function that takes a list of integers and returns a new list containing the squares of  each number\n"
      ],
      "metadata": {
        "id": "Yg3NRnPj7rQS"
      }
    },
    {
      "cell_type": "code",
      "source": [
        "def square_numbers(numbers):\n",
        "    return [num ** 2 for num in numbers]\n",
        "\n",
        "# Example usage:\n",
        "input_numbers = [1, 2, 3, 4, 5]\n",
        "result = square_numbers(input_numbers)\n",
        "print(result)  # Output: [1, 4, 9, 16, 25]\n",
        "\n"
      ],
      "metadata": {
        "colab": {
          "base_uri": "https://localhost:8080/"
        },
        "id": "gkcgqRBV73Kc",
        "outputId": "2d0cff95-101c-4a8a-d667-09eb512cab35"
      },
      "execution_count": 4,
      "outputs": [
        {
          "output_type": "stream",
          "name": "stdout",
          "text": [
            "[1, 4, 9, 16, 25]\n"
          ]
        }
      ]
    },
    {
      "cell_type": "markdown",
      "source": [
        "4. Write a Python function that checks if a given number is prime or not from 1 to 200."
      ],
      "metadata": {
        "id": "xsauS1gU8V4T"
      }
    },
    {
      "cell_type": "code",
      "source": [
        "def is_prime(num):\n",
        "    if num <= 1:\n",
        "        return False\n",
        "    for i in range(2, int(num ** 0.5) + 1):\n",
        "        if num % i == 0:\n",
        "            return False\n",
        "    return True\n",
        "\n",
        "# Example usage:\n",
        "for number in range(1, 201):\n",
        "    if is_prime(number):\n",
        "        print(number, end=\" \")  # Prints prime numbers from 1 to 200\n"
      ],
      "metadata": {
        "colab": {
          "base_uri": "https://localhost:8080/"
        },
        "id": "gCnFPXGn8diV",
        "outputId": "e42c0719-2e74-49c1-ae58-86485e934a81"
      },
      "execution_count": 5,
      "outputs": [
        {
          "output_type": "stream",
          "name": "stdout",
          "text": [
            "2 3 5 7 11 13 17 19 23 29 31 37 41 43 47 53 59 61 67 71 73 79 83 89 97 101 103 107 109 113 127 131 137 139 149 151 157 163 167 173 179 181 191 193 197 199 "
          ]
        }
      ]
    },
    {
      "cell_type": "markdown",
      "source": [
        "5. Create an iterator class in Python that generates the Fibonacci sequence up to a specified number of terms  \n"
      ],
      "metadata": {
        "id": "ea64yO8W8mQn"
      }
    },
    {
      "cell_type": "code",
      "source": [
        "class FibonacciIterator:\n",
        "    def __init__(self, max_num):\n",
        "        self.max_num = max_num\n",
        "        self.a, self.b = 0, 1  # Starting values of the Fibonacci sequence\n",
        "\n",
        "    def __iter__(self):\n",
        "        return self\n",
        "\n",
        "    def __next__(self):\n",
        "        if self.a > self.max_num:\n",
        "            raise StopIteration  # Stop when the number exceeds max_num\n",
        "        current = self.a\n",
        "        self.a, self.b = self.b, self.a + self.b  # Update values for the next Fibonacci number\n",
        "        return current\n",
        "\n",
        "# Example usage:\n",
        "max_number = 100  # Specify the maximum number for the Fibonacci sequence\n",
        "fibonacci_gen = FibonacciIterator(max_number)\n",
        "\n",
        "for num in fibonacci_gen:\n",
        "    print(num, end=\" \")  # Output Fibonacci numbers up to 100\n"
      ],
      "metadata": {
        "colab": {
          "base_uri": "https://localhost:8080/"
        },
        "id": "F--JDBOq8xBG",
        "outputId": "5506ae6b-9708-4227-902c-d4ee312263e5"
      },
      "execution_count": 6,
      "outputs": [
        {
          "output_type": "stream",
          "name": "stdout",
          "text": [
            "0 1 1 2 3 5 8 13 21 34 55 89 "
          ]
        }
      ]
    },
    {
      "cell_type": "markdown",
      "source": [
        "6. Write a generator function in Python that yields the powers of 2 up to a given exponent."
      ],
      "metadata": {
        "id": "NuNhfkeM9Q-Z"
      }
    },
    {
      "cell_type": "code",
      "source": [
        "def powers_of_two(exponent):\n",
        "    for i in range(exponent + 1):\n",
        "        yield 2 ** i\n",
        "\n",
        "# Example usage:\n",
        "exponent = 5  # Specify the maximum exponent\n",
        "for power in powers_of_two(exponent):\n",
        "    print(power, end=\" \")  # Output: 1 2 4 8 16 32\n"
      ],
      "metadata": {
        "colab": {
          "base_uri": "https://localhost:8080/"
        },
        "id": "7BLF7k4N9fDq",
        "outputId": "27037474-2da4-44ab-8022-023e7ef58d7c"
      },
      "execution_count": 7,
      "outputs": [
        {
          "output_type": "stream",
          "name": "stdout",
          "text": [
            "1 2 4 8 16 32 "
          ]
        }
      ]
    },
    {
      "cell_type": "markdown",
      "source": [
        "\n",
        "7. Implement a generator function that reads a file line by line and yields each line as a string."
      ],
      "metadata": {
        "id": "GHuRzrOf9jl7"
      }
    },
    {
      "cell_type": "code",
      "source": [
        "def read_file_line_by_line(file_path):\n",
        "    with open(file_path, 'r') as file:\n",
        "        for line in file:\n",
        "            yield line\n"
      ],
      "metadata": {
        "id": "tHMqA6Jb9rYZ"
      },
      "execution_count": 11,
      "outputs": []
    },
    {
      "cell_type": "markdown",
      "source": [
        "8. Use a lambda function in Python to sort a list of tuples based on the second element of each tuple."
      ],
      "metadata": {
        "id": "bl38mRpC-dwI"
      }
    },
    {
      "cell_type": "code",
      "source": [
        "# List of tuples\n",
        "tuples_list = [(1, 3), (4, 1), (2, 2), (5, 0)]\n",
        "\n",
        "# Sort the list of tuples based on the second element of each tuple using a lambda function\n",
        "sorted_list = sorted(tuples_list, key=lambda x: x[1])\n",
        "\n",
        "# Print the sorted list\n",
        "print(sorted_list)\n"
      ],
      "metadata": {
        "colab": {
          "base_uri": "https://localhost:8080/"
        },
        "id": "kll40IHk-pg1",
        "outputId": "60c7f6ff-5f9b-4ac6-de17-7b936b5f4c8b"
      },
      "execution_count": 12,
      "outputs": [
        {
          "output_type": "stream",
          "name": "stdout",
          "text": [
            "[(5, 0), (4, 1), (2, 2), (1, 3)]\n"
          ]
        }
      ]
    },
    {
      "cell_type": "markdown",
      "source": [
        "9. Write a Python program that uses `map()` to convert a list of temperatures from Celsius to Fahrenheit."
      ],
      "metadata": {
        "id": "S8A11lB7-zpY"
      }
    },
    {
      "cell_type": "code",
      "source": [
        "# Function to convert Celsius to Fahrenheit\n",
        "def celsius_to_fahrenheit(celsius):\n",
        "    return (celsius * 9/5) + 32\n",
        "\n",
        "# List of temperatures in Celsius\n",
        "celsius_temps = [0, 20, 30, 40, 100]\n",
        "\n",
        "# Use map() to apply the conversion function to each element of the list\n",
        "fahrenheit_temps = map(celsius_to_fahrenheit, celsius_temps)\n",
        "\n",
        "# Convert the result to a list and print\n",
        "print(list(fahrenheit_temps))\n"
      ],
      "metadata": {
        "colab": {
          "base_uri": "https://localhost:8080/"
        },
        "id": "fMn722dI_AgW",
        "outputId": "17b371ba-f655-4d1d-eb6d-b499e996a0b1"
      },
      "execution_count": 13,
      "outputs": [
        {
          "output_type": "stream",
          "name": "stdout",
          "text": [
            "[32.0, 68.0, 86.0, 104.0, 212.0]\n"
          ]
        }
      ]
    },
    {
      "cell_type": "markdown",
      "source": [
        "10. Create a Python program that uses `filter()` to remove all the vowels from a given string."
      ],
      "metadata": {
        "id": "9GL3Y-ve_dpv"
      }
    },
    {
      "cell_type": "code",
      "source": [
        "# Function to remove vowels using filter()\n",
        "def remove_vowels(input_string):\n",
        "    vowels = 'aeiouAEIOU'  # Define vowels\n",
        "    # Filter out vowels using a lambda function\n",
        "    result = filter(lambda char: char not in vowels, input_string)\n",
        "    # Join the result to get the final string without vowels\n",
        "    return ''.join(result)\n",
        "\n",
        "# Example usage\n",
        "input_string = \"Hello World\"\n",
        "output_string = remove_vowels(input_string)\n",
        "\n",
        "print(f\"Original string: {input_string}\")\n",
        "print(f\"String without vowels: {output_string}\")\n"
      ],
      "metadata": {
        "colab": {
          "base_uri": "https://localhost:8080/"
        },
        "id": "J94qsQyy_i7Q",
        "outputId": "d6e77821-8e12-4134-baa6-aff29e265c6d"
      },
      "execution_count": 14,
      "outputs": [
        {
          "output_type": "stream",
          "name": "stdout",
          "text": [
            "Original string: Hello World\n",
            "String without vowels: Hll Wrld\n"
          ]
        }
      ]
    },
    {
      "cell_type": "markdown",
      "source": [
        "11) Imagine an accounting routine used in a book shop. It works on a list with sublists, which look like this:\n",
        "\n",
        "Write a Python program, which returns a list with 2-tuples. Each tuple consists of the order number and the\n",
        "product of the price per item and the quantity. The product should be increased by 10,- € if the value of the\n",
        "order is smaller than 100,00 €.\n",
        "\n",
        "Write a Python program using lambda and map"
      ],
      "metadata": {
        "id": "sgMxgbnRAWXL"
      }
    },
    {
      "cell_type": "markdown",
      "source": [
        "# Function to process the orders\n",
        "def calculate_order_value(orders):\n",
        "    return list(map(lambda order: (order[0], order[1] * order[2] + 10 if order[1] * order[2] < 100 else order[1] * order[2]), orders))\n",
        "\n",
        "# Example orders (order_number, price_per_item, quantity)\n",
        "orders = [\n",
        "    (1, 15, 4),    # Total: 60, should add 10 -> 70\n",
        "    (2, 20, 5),    # Total: 100, no addition -> 100\n",
        "    (3, 50, 1),    # Total: 50, should add 10 -> 60\n",
        "    (4, 30, 3),    # Total: 90, should add 10 -> 100\n",
        "    (5, 100, 2),   # Total: 200, no addition -> 200\n",
        "]\n",
        "\n",
        "# Calculate order values with the lambda and map function\n",
        "order_values = calculate_order_value(orders)\n",
        "\n",
        "# Print result\n",
        "print(order_values)\n"
      ],
      "metadata": {
        "id": "diTNZ-K3_sYN"
      }
    }
  ]
}